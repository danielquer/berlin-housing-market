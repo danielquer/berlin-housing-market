{
 "cells": [
  {
   "cell_type": "markdown",
   "metadata": {},
   "source": [
    "As NBA fans, we have seen how the game has become more dynamic, points , point and shooting guards have become the dominators in the court. \n",
    "We wanted to see how data backed this feeling, from two angles: \n",
    "The performance angle: how many of the points are scored from beyond the 7.25 line. Are topscorers nowadays the 3-point shooters? \n",
    "The economic angle: how much better paid are topscorers vs the rest of the team and compared to the 80s? \n"
   ]
  }
 ],
 "metadata": {
  "kernelspec": {
   "display_name": "Python 3",
   "language": "python",
   "name": "python3"
  },
  "language_info": {
   "codemirror_mode": {
    "name": "ipython",
    "version": 3
   },
   "file_extension": ".py",
   "mimetype": "text/x-python",
   "name": "python",
   "nbconvert_exporter": "python",
   "pygments_lexer": "ipython3",
   "version": "3.8.5"
  }
 },
 "nbformat": 4,
 "nbformat_minor": 4
}
