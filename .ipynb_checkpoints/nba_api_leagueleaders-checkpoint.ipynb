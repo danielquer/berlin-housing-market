{
 "cells": [
  {
   "cell_type": "code",
   "execution_count": 3,
   "metadata": {},
   "outputs": [],
   "source": [
    "import pandas as pd\n",
    "import json\n",
    "import requests"
   ]
  },
  {
   "cell_type": "markdown",
   "metadata": {},
   "source": [
    "**First method**"
   ]
  },
  {
   "cell_type": "code",
   "execution_count": 4,
   "metadata": {},
   "outputs": [],
   "source": [
    "lst = [x+\"-\"+y for x,y in list(zip([str(i) for i in range(1984,2018)],[str(x)[1:] if len(str(x)) == 3 else str(x) for x in range(85,119)]))]\n",
    "df_all = pd.DataFrame()\n",
    "session = requests.Session()\n",
    "session.headers.update({'User-Agent': 'Custom user agent'})\n",
    "for i in lst:\n",
    "    url = \"https://stats.nba.com/stats/leagueleaders?LeagueID=00&PerMode=Totals&Scope=S&Season=\" + i + \"&SeasonType=Regular+Season&StatCategory=PTS\"\n",
    "    response = session.get(url)\n",
    "    results = response.json()\n",
    "    df = pd.DataFrame(results[\"resultSet\"][\"rowSet\"],columns=results[\"resultSet\"][\"headers\"])\n",
    "    df[\"year\"] = i\n",
    "    df_all = pd.concat([df_all,df])"
   ]
  },
  {
   "cell_type": "code",
   "execution_count": 5,
   "metadata": {
    "scrolled": true
   },
   "outputs": [
    {
     "data": {
      "text/plain": [
       "2017-18    540\n",
       "2014-15    492\n",
       "2016-17    486\n",
       "2013-14    482\n",
       "2011-12    478\n",
       "2015-16    476\n",
       "2012-13    468\n",
       "2004-05    464\n",
       "2006-07    458\n",
       "2005-06    457\n",
       "2010-11    452\n",
       "2007-08    451\n",
       "2008-09    445\n",
       "2003-04    442\n",
       "2000-01    441\n",
       "2009-10    441\n",
       "2001-02    440\n",
       "1999-00    438\n",
       "1998-99    437\n",
       "1997-98    435\n",
       "1996-97    433\n",
       "1995-96    429\n",
       "2002-03    428\n",
       "1994-95    406\n",
       "1993-94    402\n",
       "1992-93    389\n",
       "1990-91    386\n",
       "1991-92    385\n",
       "1989-90    381\n",
       "1988-89    353\n",
       "1986-87    335\n",
       "1987-88    332\n",
       "1985-86    314\n",
       "1984-85    309\n",
       "Name: year, dtype: int64"
      ]
     },
     "execution_count": 5,
     "metadata": {},
     "output_type": "execute_result"
    }
   ],
   "source": [
    "df_all[\"year\"].value_counts()"
   ]
  },
  {
   "cell_type": "markdown",
   "metadata": {},
   "source": [
    "**Method 2** "
   ]
  },
  {
   "cell_type": "code",
   "execution_count": 6,
   "metadata": {},
   "outputs": [],
   "source": [
    "#headers = {\"User-Agent\": \"Mozilla/5.0 (Windows NT 10.0; Win64; x64) AppleWebKit/537.36 (KHTML, like Gecko) Chrome/70.0.3538.77 Safari/537.36\"}\n",
    "#url = \"https://stats.nba.com/stats/leagueleaders?LeagueID=00&PerMode=Totals&Scope=S&Season=\" + i + \"&SeasonType=Regular+Season&StatCategory=PTS\"\n",
    "#response = requests.get(url,headers)\n",
    "#results = response.json()\n",
    "#df = pd.DataFrame(results[\"resultSet\"][\"rowSet\"],columns=results[\"resultSet\"][\"headers\"])\n",
    "#shoul be run with loop"
   ]
  },
  {
   "cell_type": "markdown",
   "metadata": {},
   "source": [
    "**Method 3**"
   ]
  },
  {
   "cell_type": "code",
   "execution_count": 7,
   "metadata": {},
   "outputs": [],
   "source": [
    "#from nba_api.stats import endpoints\n",
    "#data = endpoints.leagueleaders.LeagueLeaders(season=\"1984-85\")\n",
    "#df = data.league_leaders.get_data_frame()\n",
    "#should be run with loop"
   ]
  },
  {
   "cell_type": "code",
   "execution_count": null,
   "metadata": {},
   "outputs": [],
   "source": []
  }
 ],
 "metadata": {
  "kernelspec": {
   "display_name": "Python 3",
   "language": "python",
   "name": "python3"
  },
  "language_info": {
   "codemirror_mode": {
    "name": "ipython",
    "version": 3
   },
   "file_extension": ".py",
   "mimetype": "text/x-python",
   "name": "python",
   "nbconvert_exporter": "python",
   "pygments_lexer": "ipython3",
   "version": "3.7.3"
  }
 },
 "nbformat": 4,
 "nbformat_minor": 2
}
