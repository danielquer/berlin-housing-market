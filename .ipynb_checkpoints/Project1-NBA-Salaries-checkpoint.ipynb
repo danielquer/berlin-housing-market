{
 "cells": [
  {
   "cell_type": "code",
<<<<<<< HEAD
<<<<<<< HEAD
   "execution_count": 2,
=======
   "execution_count": 1,
>>>>>>> 2192b500a2999af674f44609697cc91dac5af195
=======
   "execution_count": 1,
>>>>>>> 2192b500a2999af674f44609697cc91dac5af195
   "metadata": {},
   "outputs": [],
   "source": [
    "import pandas as pd\n",
    "df = pd.read_csv('https://query.data.world/s/mehrib5wxi5mqovwtgyt3hpzdnllyp')"
   ]
  },
  {
   "cell_type": "code",
<<<<<<< HEAD
<<<<<<< HEAD
   "execution_count": 3,
=======
   "execution_count": 2,
>>>>>>> 2192b500a2999af674f44609697cc91dac5af195
=======
   "execution_count": 2,
>>>>>>> 2192b500a2999af674f44609697cc91dac5af195
   "metadata": {},
   "outputs": [
    {
     "data": {
      "text/html": [
       "<div>\n",
       "<style scoped>\n",
       "    .dataframe tbody tr th:only-of-type {\n",
       "        vertical-align: middle;\n",
       "    }\n",
       "\n",
       "    .dataframe tbody tr th {\n",
       "        vertical-align: top;\n",
       "    }\n",
       "\n",
       "    .dataframe thead th {\n",
       "        text-align: right;\n",
       "    }\n",
       "</style>\n",
       "<table border=\"1\" class=\"dataframe\">\n",
       "  <thead>\n",
       "    <tr style=\"text-align: right;\">\n",
       "      <th></th>\n",
       "      <th>league</th>\n",
       "      <th>player_id</th>\n",
       "      <th>salary</th>\n",
       "      <th>season</th>\n",
       "      <th>season_end</th>\n",
       "      <th>season_start</th>\n",
       "      <th>team</th>\n",
       "    </tr>\n",
       "  </thead>\n",
       "  <tbody>\n",
       "    <tr>\n",
       "      <th>0</th>\n",
       "      <td>NBA</td>\n",
       "      <td>abdelal01</td>\n",
       "      <td>395000</td>\n",
       "      <td>1990-91</td>\n",
       "      <td>1991</td>\n",
       "      <td>1990</td>\n",
       "      <td>Portland Trail Blazers</td>\n",
       "    </tr>\n",
       "    <tr>\n",
       "      <th>1</th>\n",
       "      <td>NBA</td>\n",
       "      <td>abdelal01</td>\n",
       "      <td>494000</td>\n",
       "      <td>1991-92</td>\n",
       "      <td>1992</td>\n",
       "      <td>1991</td>\n",
       "      <td>Portland Trail Blazers</td>\n",
       "    </tr>\n",
       "    <tr>\n",
       "      <th>2</th>\n",
       "      <td>NBA</td>\n",
       "      <td>abdelal01</td>\n",
       "      <td>500000</td>\n",
       "      <td>1992-93</td>\n",
       "      <td>1993</td>\n",
       "      <td>1992</td>\n",
       "      <td>Boston Celtics</td>\n",
       "    </tr>\n",
       "    <tr>\n",
       "      <th>3</th>\n",
       "      <td>NBA</td>\n",
       "      <td>abdelal01</td>\n",
       "      <td>805000</td>\n",
       "      <td>1993-94</td>\n",
       "      <td>1994</td>\n",
       "      <td>1993</td>\n",
       "      <td>Boston Celtics</td>\n",
       "    </tr>\n",
       "    <tr>\n",
       "      <th>4</th>\n",
       "      <td>NBA</td>\n",
       "      <td>abdelal01</td>\n",
       "      <td>650000</td>\n",
       "      <td>1994-95</td>\n",
       "      <td>1995</td>\n",
       "      <td>1994</td>\n",
       "      <td>Sacramento Kings</td>\n",
       "    </tr>\n",
       "    <tr>\n",
       "      <th>...</th>\n",
       "      <td>...</td>\n",
       "      <td>...</td>\n",
       "      <td>...</td>\n",
       "      <td>...</td>\n",
       "      <td>...</td>\n",
       "      <td>...</td>\n",
       "      <td>...</td>\n",
       "    </tr>\n",
       "    <tr>\n",
       "      <th>14158</th>\n",
       "      <td>NBA</td>\n",
       "      <td>zipsepa01</td>\n",
       "      <td>750000</td>\n",
       "      <td>2016-17</td>\n",
       "      <td>2017</td>\n",
       "      <td>2016</td>\n",
       "      <td>Chicago Bulls</td>\n",
       "    </tr>\n",
       "    <tr>\n",
       "      <th>14159</th>\n",
       "      <td>NBA</td>\n",
       "      <td>zipsepa01</td>\n",
       "      <td>1312611</td>\n",
       "      <td>2017-18</td>\n",
       "      <td>2018</td>\n",
       "      <td>2017</td>\n",
       "      <td>Chicago Bulls</td>\n",
       "    </tr>\n",
       "    <tr>\n",
       "      <th>14160</th>\n",
       "      <td>NBA</td>\n",
       "      <td>zizican01</td>\n",
       "      <td>1645200</td>\n",
       "      <td>2017-18</td>\n",
       "      <td>2018</td>\n",
       "      <td>2017</td>\n",
       "      <td>Cleveland Cavaliers</td>\n",
       "    </tr>\n",
       "    <tr>\n",
       "      <th>14161</th>\n",
       "      <td>NBA</td>\n",
       "      <td>zubaciv01</td>\n",
       "      <td>1034956</td>\n",
       "      <td>2016-17</td>\n",
       "      <td>2017</td>\n",
       "      <td>2016</td>\n",
       "      <td>Los Angeles Lakers</td>\n",
       "    </tr>\n",
       "    <tr>\n",
       "      <th>14162</th>\n",
       "      <td>NBA</td>\n",
       "      <td>zubaciv01</td>\n",
       "      <td>1312611</td>\n",
       "      <td>2017-18</td>\n",
       "      <td>2018</td>\n",
       "      <td>2017</td>\n",
       "      <td>Los Angeles Lakers</td>\n",
       "    </tr>\n",
       "  </tbody>\n",
       "</table>\n",
       "<p>14163 rows × 7 columns</p>\n",
       "</div>"
      ],
      "text/plain": [
       "      league  player_id   salary   season  season_end  season_start  \\\n",
       "0        NBA  abdelal01   395000  1990-91        1991          1990   \n",
       "1        NBA  abdelal01   494000  1991-92        1992          1991   \n",
       "2        NBA  abdelal01   500000  1992-93        1993          1992   \n",
       "3        NBA  abdelal01   805000  1993-94        1994          1993   \n",
       "4        NBA  abdelal01   650000  1994-95        1995          1994   \n",
       "...      ...        ...      ...      ...         ...           ...   \n",
       "14158    NBA  zipsepa01   750000  2016-17        2017          2016   \n",
       "14159    NBA  zipsepa01  1312611  2017-18        2018          2017   \n",
       "14160    NBA  zizican01  1645200  2017-18        2018          2017   \n",
       "14161    NBA  zubaciv01  1034956  2016-17        2017          2016   \n",
       "14162    NBA  zubaciv01  1312611  2017-18        2018          2017   \n",
       "\n",
       "                         team  \n",
       "0      Portland Trail Blazers  \n",
       "1      Portland Trail Blazers  \n",
       "2              Boston Celtics  \n",
       "3              Boston Celtics  \n",
       "4            Sacramento Kings  \n",
       "...                       ...  \n",
       "14158           Chicago Bulls  \n",
       "14159           Chicago Bulls  \n",
       "14160     Cleveland Cavaliers  \n",
       "14161      Los Angeles Lakers  \n",
       "14162      Los Angeles Lakers  \n",
       "\n",
       "[14163 rows x 7 columns]"
      ]
     },
<<<<<<< HEAD
<<<<<<< HEAD
     "execution_count": 3,
=======
     "execution_count": 2,
>>>>>>> 2192b500a2999af674f44609697cc91dac5af195
=======
     "execution_count": 2,
>>>>>>> 2192b500a2999af674f44609697cc91dac5af195
     "metadata": {},
     "output_type": "execute_result"
    }
   ],
   "source": [
    "df"
   ]
  },
  {
   "cell_type": "code",
<<<<<<< HEAD
<<<<<<< HEAD
   "execution_count": 9,
   "metadata": {},
   "outputs": [
    {
     "data": {
      "text/plain": [
       "(14163, 7)"
      ]
     },
     "execution_count": 9,
     "metadata": {},
     "output_type": "execute_result"
    }
   ],
   "source": [
    "df.shape"
   ]
  },
  {
   "cell_type": "code",
   "execution_count": 11,
   "metadata": {},
   "outputs": [
    {
     "data": {
      "text/plain": [
       "<bound method DataFrame.info of       league  player_id   salary   season  season_end  season_start  \\\n",
       "0        NBA  abdelal01   395000  1990-91        1991          1990   \n",
       "1        NBA  abdelal01   494000  1991-92        1992          1991   \n",
       "2        NBA  abdelal01   500000  1992-93        1993          1992   \n",
       "3        NBA  abdelal01   805000  1993-94        1994          1993   \n",
       "4        NBA  abdelal01   650000  1994-95        1995          1994   \n",
       "...      ...        ...      ...      ...         ...           ...   \n",
       "14158    NBA  zipsepa01   750000  2016-17        2017          2016   \n",
       "14159    NBA  zipsepa01  1312611  2017-18        2018          2017   \n",
       "14160    NBA  zizican01  1645200  2017-18        2018          2017   \n",
       "14161    NBA  zubaciv01  1034956  2016-17        2017          2016   \n",
       "14162    NBA  zubaciv01  1312611  2017-18        2018          2017   \n",
       "\n",
       "                         team  \n",
       "0      Portland Trail Blazers  \n",
       "1      Portland Trail Blazers  \n",
       "2              Boston Celtics  \n",
       "3              Boston Celtics  \n",
       "4            Sacramento Kings  \n",
       "...                       ...  \n",
       "14158           Chicago Bulls  \n",
       "14159           Chicago Bulls  \n",
       "14160     Cleveland Cavaliers  \n",
       "14161      Los Angeles Lakers  \n",
       "14162      Los Angeles Lakers  \n",
       "\n",
       "[14163 rows x 7 columns]>"
      ]
     },
     "execution_count": 11,
     "metadata": {},
     "output_type": "execute_result"
    }
   ],
   "source": [
    "df.info"
   ]
  },
  {
   "cell_type": "code",
=======
>>>>>>> 2192b500a2999af674f44609697cc91dac5af195
=======
>>>>>>> 2192b500a2999af674f44609697cc91dac5af195
   "execution_count": null,
   "metadata": {},
   "outputs": [],
   "source": []
<<<<<<< HEAD
<<<<<<< HEAD
  },
  {
   "cell_type": "code",
   "execution_count": 10,
   "metadata": {},
   "outputs": [
    {
     "data": {
      "text/plain": [
       "league          0\n",
       "player_id       0\n",
       "salary          0\n",
       "season          0\n",
       "season_end      0\n",
       "season_start    0\n",
       "team            4\n",
       "dtype: int64"
      ]
     },
     "execution_count": 10,
     "metadata": {},
     "output_type": "execute_result"
    }
   ],
   "source": [
    "null_cols = df.isnull().sum()\n",
    "null_cols"
   ]
  },
  {
   "cell_type": "markdown",
   "metadata": {},
   "source": []
  },
  {
   "cell_type": "code",
   "execution_count": null,
   "metadata": {},
   "outputs": [],
   "source": [
    "# null_displ = df[(df['displ'].isnull()==True)]\n",
    "#null_displ = null_displ[['year', 'make', 'model', 'trany', 'drive','fuelType','cylinders', 'displ']]\n",
    "#null_displ\n",
    "\n",
    "# Let's investigate the missing value in team by subsetting the data set and looking at 'Team where the null is and just the columns\n",
    "null-display = null_display[]"
   ]
=======
>>>>>>> 2192b500a2999af674f44609697cc91dac5af195
=======
>>>>>>> 2192b500a2999af674f44609697cc91dac5af195
  }
 ],
 "metadata": {
  "kernelspec": {
   "display_name": "Python 3",
   "language": "python",
   "name": "python3"
  },
  "language_info": {
   "codemirror_mode": {
    "name": "ipython",
    "version": 3
   },
   "file_extension": ".py",
   "mimetype": "text/x-python",
   "name": "python",
   "nbconvert_exporter": "python",
   "pygments_lexer": "ipython3",
<<<<<<< HEAD
<<<<<<< HEAD
   "version": "3.8.5"
=======
   "version": "3.8.3"
>>>>>>> 2192b500a2999af674f44609697cc91dac5af195
=======
   "version": "3.8.3"
>>>>>>> 2192b500a2999af674f44609697cc91dac5af195
  }
 },
 "nbformat": 4,
 "nbformat_minor": 4
}
