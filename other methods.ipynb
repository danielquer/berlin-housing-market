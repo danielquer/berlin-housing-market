{
 "cells": [
  {
   "cell_type": "code",
   "execution_count": null,
   "metadata": {},
   "outputs": [],
   "source": [
    "headers = {\"User-Agent\": \"Mozilla/5.0 (Windows NT 10.0; Win64; x64) AppleWebKit/537.36 (KHTML, like Gecko) Chrome/70.0.3538.77 Safari/537.36\"}\n",
    "i = '1986-87'\n",
    "url = \"https://stats.nba.com/stats/leagueleaders?LeagueID=00&PerMode=Totals&Scope=S&Season=\" + i + \"&SeasonType=Regular+Season&StatCategory=PTS\"\n",
    "\n",
    "response = requests.get(url,headers=headers)\n",
    "results = response.json()\n",
    "#df = pd.DataFrame(results[\"resultSet\"][\"rowSet\"],columns=results[\"resultSet\"][\"headers\"])\n",
    "#shoul be run with loop\n",
    "results"
   ]
  },
  {
   "cell_type": "code",
   "execution_count": null,
   "metadata": {},
   "outputs": [],
   "source": [
    "#from nba_api.stats import endpoints\n",
    "#data = endpoints.leagueleaders.LeagueLeaders(season=\"1984-85\")\n",
    "#df = data.league_leaders.get_data_frame()\n",
    "#should be run with loop"
   ]
  }
 ],
 "metadata": {
  "kernelspec": {
   "display_name": "Python 3",
   "language": "python",
   "name": "python3"
  },
  "language_info": {
   "codemirror_mode": {
    "name": "ipython",
    "version": 3
   },
   "file_extension": ".py",
   "mimetype": "text/x-python",
   "name": "python",
   "nbconvert_exporter": "python",
   "pygments_lexer": "ipython3",
   "version": "3.7.3"
  }
 },
 "nbformat": 4,
 "nbformat_minor": 2
}
